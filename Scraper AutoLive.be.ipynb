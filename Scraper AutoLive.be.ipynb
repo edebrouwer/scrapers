{
 "cells": [
  {
   "cell_type": "code",
   "execution_count": 81,
   "metadata": {},
   "outputs": [],
   "source": [
    "import urllib2\n",
    "from bs4 import BeautifulSoup\n",
    "import re\n",
    "\n",
    "base_url=\"http://www.autolive.be\"\n",
    "r=urllib2.urlopen('http://www.autolive.be/fr/vehicule-accidente/vehicule-accidente-a-vendre/pt_id:76/page:14').read()\n",
    "\n",
    "soup=BeautifulSoup(r)\n"
   ]
  },
  {
   "cell_type": "code",
   "execution_count": 86,
   "metadata": {},
   "outputs": [],
   "source": [
    "links_pages=soup.find_all(\"a\",href=re.compile(\"/page:\"))\n",
    "#print(links_pages)\n",
    "links_cars=soup.find_all(\"a\",class_=\"product-picture\")\n",
    "\n",
    "\n",
    "def max_page_fun (links_pages):\n",
    "    nums_vect=[]\n",
    "    for pages in links_pages:\n",
    "        nums_str=pages[\"href\"][-3:] #We consider up to 3 digits for the page number\n",
    "        num_int=int((re.findall(r\"\\d+\",nums_str))[0])\n",
    "        nums_vect.append(num_int)\n",
    "    return(max(nums_vect))\n",
    "\n",
    "\n"
   ]
  },
  {
   "cell_type": "code",
   "execution_count": 85,
   "metadata": {},
   "outputs": [
    {
     "name": "stdout",
     "output_type": "stream",
     "text": [
      "1\n",
      "[2, 3, 4, 5, 6, 7, 8, 9, 10, 3]\n",
      "MAx Page10\n",
      "2\n",
      "3\n",
      "4\n",
      "5\n",
      "6\n",
      "7\n",
      "8\n",
      "9\n",
      "[9, 2, 3, 4, 5, 6, 7, 8, 9, 10, 11]\n",
      "MAx Page11\n",
      "10\n",
      "[10, 2, 3, 4, 5, 6, 7, 8, 9, 10, 12]\n",
      "MAx Page12\n",
      "11\n",
      "[11, 2, 3, 4, 5, 6, 7, 8, 9, 10, 13]\n",
      "MAx Page13\n",
      "12\n",
      "[12, 2, 3, 4, 5, 6, 7, 8, 9, 10, 14]\n",
      "MAx Page14\n",
      "13\n",
      "[13, 2, 3, 4, 5, 6, 7, 8, 9, 10, 15]\n",
      "MAx Page15\n",
      "14\n",
      "[14, 2, 3, 4, 5, 6, 7, 8, 9, 10, 16]\n",
      "MAx Page16\n",
      "15\n",
      "[15, 2, 3, 4, 5, 6, 7, 8, 9, 10, 17]\n",
      "MAx Page17\n",
      "16\n",
      "[16, 2, 3, 4, 5, 6, 7, 8, 9, 10, 18]\n",
      "MAx Page18\n",
      "17\n",
      "[17, 2, 3, 4, 5, 6, 7, 8, 9, 10, 19]\n",
      "MAx Page19\n",
      "18\n",
      "[18, 2, 3, 4, 5, 6, 7, 8, 9, 10, 20]\n",
      "MAx Page20\n",
      "19\n",
      "[19, 2, 3, 4, 5, 6, 7, 8, 9, 10, 21]\n",
      "MAx Page21\n",
      "20\n",
      "[20, 2, 3, 4, 5, 6, 7, 8, 9, 10, 22]\n",
      "MAx Page22\n",
      "21\n",
      "[21, 2, 3, 4, 5, 6, 7, 8, 9, 10, 23]\n",
      "MAx Page23\n",
      "22\n",
      "[22, 2, 3, 4, 5, 6, 7, 8, 9, 10, 24]\n",
      "MAx Page24\n",
      "23\n",
      "[23, 2, 3, 4, 5, 6, 7, 8, 9, 10, 25]\n",
      "MAx Page25\n",
      "24\n",
      "[24, 2, 3, 4, 5, 6, 7, 8, 9, 10]\n",
      "MAx Page24\n",
      "25\n"
     ]
    }
   ],
   "source": [
    "index_f=1\n",
    "index_page=1\n",
    "max_page=2\n",
    "while(max_page>=index_page): #Go over pages untill max pages is reached.\n",
    "    r=urllib2.urlopen('http://www.autolive.be/fr/vehicule-accidente/vehicule-accidente-a-vendre/pt_id:76/page:'+str(index_page)).read()\n",
    "    soup=BeautifulSoup(r)\n",
    "    links_cars=soup.find_all(\"a\",class_=\"product-picture\")\n",
    "    \n",
    "    if index_page==(max_page):  #Update the max page index\n",
    "        links_pages=soup.find_all(\"a\",href=re.compile(\"/page:\"))\n",
    "        max_page=max_page_fun(links_pages)\n",
    "    \n",
    "    print(index_page)\n",
    "    index_page=index_page+1 #Go to next page\n",
    "        \n",
    "    for car_annonce in links_cars: #Loop over all car pictures in the page\n",
    "        img_tag=car_annonce.find(\"img\")\n",
    "        img_unicode=img_tag[\"src\"]\n",
    "        req=urllib2.Request(img_unicode)\n",
    "        f=urllib2.urlopen(req)\n",
    "        local_file=open(\"./pics/\"+str(index_f)+\".jpg\",\"w\")\n",
    "        local_file.write(f.read())\n",
    "        local_file.close\n",
    "        index_f=index_f+1"
   ]
  },
  {
   "cell_type": "code",
   "execution_count": null,
   "metadata": {
    "collapsed": true
   },
   "outputs": [],
   "source": []
  },
  {
   "cell_type": "code",
   "execution_count": null,
   "metadata": {
    "collapsed": true
   },
   "outputs": [],
   "source": []
  }
 ],
 "metadata": {
  "kernelspec": {
   "display_name": "Python 2",
   "language": "python",
   "name": "python2"
  },
  "language_info": {
   "codemirror_mode": {
    "name": "ipython",
    "version": 2
   },
   "file_extension": ".py",
   "mimetype": "text/x-python",
   "name": "python",
   "nbconvert_exporter": "python",
   "pygments_lexer": "ipython2",
   "version": "2.7.10"
  }
 },
 "nbformat": 4,
 "nbformat_minor": 2
}
